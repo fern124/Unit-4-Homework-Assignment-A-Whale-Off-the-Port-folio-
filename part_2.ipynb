{
 "cells": [
  {
   "cell_type": "code",
   "execution_count": 76,
   "id": "bcf85fde-701d-464a-829a-576ed37e6c26",
   "metadata": {},
   "outputs": [],
   "source": [
    "#Create Custom Portfolio"
   ]
  },
  {
   "cell_type": "code",
   "execution_count": 77,
   "id": "da3e2414-0010-4f0f-a64f-fdc673bd4624",
   "metadata": {},
   "outputs": [],
   "source": [
    "import pandas as pd\n",
    "import numpy as np\n",
    "import datetime as dt\n",
    "from pathlib import Path\n",
    "\n",
    "%matplotlib inline"
   ]
  },
  {
   "cell_type": "code",
   "execution_count": 78,
   "id": "7d450263-8a73-475e-bfc7-b87c4ad316b7",
   "metadata": {},
   "outputs": [],
   "source": [
    "otex_path = Path(\"../Pandas Classes/otex_historical.csv\")\n",
    "l_path = Path(\"../Pandas Classes/l_historical.csv\")\n",
    "shop_path = Path(\"../Pandas Classes/shop_historical.csv\")\n",
    "\n",
    "# Read in data\n",
    "otex = pd.read_csv(otex_path, index_col=\"Date\", parse_dates=True, infer_datetime_format=True)\n",
    "l = pd.read_csv(l_path, index_col=\"Date\", parse_dates=True, infer_datetime_format=True)\n",
    "shop = pd.read_csv(shop_path, index_col=\"Date\", parse_dates=True, infer_datetime_format=True)"
   ]
  },
  {
   "cell_type": "code",
   "execution_count": 83,
   "id": "eae6af0f-c350-4558-8d81-5c54fecc65b1",
   "metadata": {},
   "outputs": [],
   "source": [
    "# Reform Data"
   ]
  },
  {
   "cell_type": "code",
   "execution_count": 84,
   "id": "7a0bc02d-2a26-470b-a000-c3892cd36040",
   "metadata": {},
   "outputs": [
    {
     "data": {
      "text/html": [
       "<div>\n",
       "<style scoped>\n",
       "    .dataframe tbody tr th:only-of-type {\n",
       "        vertical-align: middle;\n",
       "    }\n",
       "\n",
       "    .dataframe tbody tr th {\n",
       "        vertical-align: top;\n",
       "    }\n",
       "\n",
       "    .dataframe thead th {\n",
       "        text-align: right;\n",
       "    }\n",
       "</style>\n",
       "<table border=\"1\" class=\"dataframe\">\n",
       "  <thead>\n",
       "    <tr style=\"text-align: right;\">\n",
       "      <th></th>\n",
       "      <th>Symbol</th>\n",
       "      <th>Close</th>\n",
       "    </tr>\n",
       "    <tr>\n",
       "      <th>Date</th>\n",
       "      <th></th>\n",
       "      <th></th>\n",
       "    </tr>\n",
       "  </thead>\n",
       "  <tbody>\n",
       "    <tr>\n",
       "      <th>2018-01-02</th>\n",
       "      <td>OTEX</td>\n",
       "      <td>43.58</td>\n",
       "    </tr>\n",
       "    <tr>\n",
       "      <th>2018-01-03</th>\n",
       "      <td>OTEX</td>\n",
       "      <td>43.07</td>\n",
       "    </tr>\n",
       "    <tr>\n",
       "      <th>2018-01-04</th>\n",
       "      <td>OTEX</td>\n",
       "      <td>42.91</td>\n",
       "    </tr>\n",
       "    <tr>\n",
       "      <th>2018-01-05</th>\n",
       "      <td>OTEX</td>\n",
       "      <td>42.57</td>\n",
       "    </tr>\n",
       "    <tr>\n",
       "      <th>2018-01-08</th>\n",
       "      <td>OTEX</td>\n",
       "      <td>42.16</td>\n",
       "    </tr>\n",
       "    <tr>\n",
       "      <th>...</th>\n",
       "      <td>...</td>\n",
       "      <td>...</td>\n",
       "    </tr>\n",
       "    <tr>\n",
       "      <th>2019-12-20</th>\n",
       "      <td>OTEX</td>\n",
       "      <td>58.68</td>\n",
       "    </tr>\n",
       "    <tr>\n",
       "      <th>2019-12-23</th>\n",
       "      <td>OTEX</td>\n",
       "      <td>57.89</td>\n",
       "    </tr>\n",
       "    <tr>\n",
       "      <th>2019-12-24</th>\n",
       "      <td>OTEX</td>\n",
       "      <td>57.44</td>\n",
       "    </tr>\n",
       "    <tr>\n",
       "      <th>2019-12-27</th>\n",
       "      <td>OTEX</td>\n",
       "      <td>57.70</td>\n",
       "    </tr>\n",
       "    <tr>\n",
       "      <th>2019-12-30</th>\n",
       "      <td>OTEX</td>\n",
       "      <td>57.19</td>\n",
       "    </tr>\n",
       "  </tbody>\n",
       "</table>\n",
       "<p>501 rows × 2 columns</p>\n",
       "</div>"
      ],
      "text/plain": [
       "           Symbol  Close\n",
       "Date                    \n",
       "2018-01-02   OTEX  43.58\n",
       "2018-01-03   OTEX  43.07\n",
       "2018-01-04   OTEX  42.91\n",
       "2018-01-05   OTEX  42.57\n",
       "2018-01-08   OTEX  42.16\n",
       "...           ...    ...\n",
       "2019-12-20   OTEX  58.68\n",
       "2019-12-23   OTEX  57.89\n",
       "2019-12-24   OTEX  57.44\n",
       "2019-12-27   OTEX  57.70\n",
       "2019-12-30   OTEX  57.19\n",
       "\n",
       "[501 rows x 2 columns]"
      ]
     },
     "execution_count": 84,
     "metadata": {},
     "output_type": "execute_result"
    }
   ],
   "source": [
    "otex"
   ]
  },
  {
   "cell_type": "code",
   "execution_count": 85,
   "id": "5a26acd3-fe8b-4f83-825d-6666f76a177b",
   "metadata": {},
   "outputs": [],
   "source": [
    "otex = otex.drop(columns= ['Symbol'])"
   ]
  },
  {
   "cell_type": "code",
   "execution_count": 88,
   "id": "be71e437-94fb-4a5c-8c61-1297d06e73f4",
   "metadata": {},
   "outputs": [],
   "source": [
    "otex.columns = ['OTEX']"
   ]
  },
  {
   "cell_type": "code",
   "execution_count": 89,
   "id": "79859bdb-6b59-49a4-bcdf-a36c58e7627c",
   "metadata": {},
   "outputs": [
    {
     "data": {
      "text/html": [
       "<div>\n",
       "<style scoped>\n",
       "    .dataframe tbody tr th:only-of-type {\n",
       "        vertical-align: middle;\n",
       "    }\n",
       "\n",
       "    .dataframe tbody tr th {\n",
       "        vertical-align: top;\n",
       "    }\n",
       "\n",
       "    .dataframe thead th {\n",
       "        text-align: right;\n",
       "    }\n",
       "</style>\n",
       "<table border=\"1\" class=\"dataframe\">\n",
       "  <thead>\n",
       "    <tr style=\"text-align: right;\">\n",
       "      <th></th>\n",
       "      <th>OTEX</th>\n",
       "    </tr>\n",
       "    <tr>\n",
       "      <th>Date</th>\n",
       "      <th></th>\n",
       "    </tr>\n",
       "  </thead>\n",
       "  <tbody>\n",
       "    <tr>\n",
       "      <th>2018-01-02</th>\n",
       "      <td>43.58</td>\n",
       "    </tr>\n",
       "    <tr>\n",
       "      <th>2018-01-03</th>\n",
       "      <td>43.07</td>\n",
       "    </tr>\n",
       "    <tr>\n",
       "      <th>2018-01-04</th>\n",
       "      <td>42.91</td>\n",
       "    </tr>\n",
       "    <tr>\n",
       "      <th>2018-01-05</th>\n",
       "      <td>42.57</td>\n",
       "    </tr>\n",
       "    <tr>\n",
       "      <th>2018-01-08</th>\n",
       "      <td>42.16</td>\n",
       "    </tr>\n",
       "  </tbody>\n",
       "</table>\n",
       "</div>"
      ],
      "text/plain": [
       "             OTEX\n",
       "Date             \n",
       "2018-01-02  43.58\n",
       "2018-01-03  43.07\n",
       "2018-01-04  42.91\n",
       "2018-01-05  42.57\n",
       "2018-01-08  42.16"
      ]
     },
     "execution_count": 89,
     "metadata": {},
     "output_type": "execute_result"
    }
   ],
   "source": [
    "otex.head()"
   ]
  },
  {
   "cell_type": "code",
   "execution_count": 90,
   "id": "ed0fc8ae-45ed-427f-a6c0-c30587768660",
   "metadata": {},
   "outputs": [],
   "source": [
    "l = l.drop(columns= ['Symbol'])"
   ]
  },
  {
   "cell_type": "code",
   "execution_count": 92,
   "id": "214a130f-5717-4512-9858-c6008196df9d",
   "metadata": {},
   "outputs": [],
   "source": [
    "l.columns = ['L']"
   ]
  },
  {
   "cell_type": "code",
   "execution_count": 93,
   "id": "87467ec1-cd12-4408-9d5a-d249161a57b7",
   "metadata": {},
   "outputs": [
    {
     "data": {
      "text/html": [
       "<div>\n",
       "<style scoped>\n",
       "    .dataframe tbody tr th:only-of-type {\n",
       "        vertical-align: middle;\n",
       "    }\n",
       "\n",
       "    .dataframe tbody tr th {\n",
       "        vertical-align: top;\n",
       "    }\n",
       "\n",
       "    .dataframe thead th {\n",
       "        text-align: right;\n",
       "    }\n",
       "</style>\n",
       "<table border=\"1\" class=\"dataframe\">\n",
       "  <thead>\n",
       "    <tr style=\"text-align: right;\">\n",
       "      <th></th>\n",
       "      <th>L</th>\n",
       "    </tr>\n",
       "    <tr>\n",
       "      <th>Date</th>\n",
       "      <th></th>\n",
       "    </tr>\n",
       "  </thead>\n",
       "  <tbody>\n",
       "    <tr>\n",
       "      <th>2018-01-02</th>\n",
       "      <td>57.99</td>\n",
       "    </tr>\n",
       "    <tr>\n",
       "      <th>2018-01-03</th>\n",
       "      <td>57.41</td>\n",
       "    </tr>\n",
       "    <tr>\n",
       "      <th>2018-01-04</th>\n",
       "      <td>57.42</td>\n",
       "    </tr>\n",
       "    <tr>\n",
       "      <th>2018-01-05</th>\n",
       "      <td>57.42</td>\n",
       "    </tr>\n",
       "    <tr>\n",
       "      <th>2018-01-08</th>\n",
       "      <td>56.86</td>\n",
       "    </tr>\n",
       "  </tbody>\n",
       "</table>\n",
       "</div>"
      ],
      "text/plain": [
       "                L\n",
       "Date             \n",
       "2018-01-02  57.99\n",
       "2018-01-03  57.41\n",
       "2018-01-04  57.42\n",
       "2018-01-05  57.42\n",
       "2018-01-08  56.86"
      ]
     },
     "execution_count": 93,
     "metadata": {},
     "output_type": "execute_result"
    }
   ],
   "source": [
    "l.head()"
   ]
  },
  {
   "cell_type": "code",
   "execution_count": 94,
   "id": "42978e87-3161-4dad-a2d9-5adb199a701d",
   "metadata": {},
   "outputs": [],
   "source": [
    "shop = shop.drop(columns= ['Symbol'])"
   ]
  },
  {
   "cell_type": "code",
   "execution_count": 95,
   "id": "106fb47d-bfb6-4785-a1a2-dda956166c47",
   "metadata": {},
   "outputs": [],
   "source": [
    "shop.columns = ['SHOP']"
   ]
  },
  {
   "cell_type": "code",
   "execution_count": 96,
   "id": "97d84346-92d2-4653-b4a9-016b014bf6d8",
   "metadata": {},
   "outputs": [
    {
     "data": {
      "text/html": [
       "<div>\n",
       "<style scoped>\n",
       "    .dataframe tbody tr th:only-of-type {\n",
       "        vertical-align: middle;\n",
       "    }\n",
       "\n",
       "    .dataframe tbody tr th {\n",
       "        vertical-align: top;\n",
       "    }\n",
       "\n",
       "    .dataframe thead th {\n",
       "        text-align: right;\n",
       "    }\n",
       "</style>\n",
       "<table border=\"1\" class=\"dataframe\">\n",
       "  <thead>\n",
       "    <tr style=\"text-align: right;\">\n",
       "      <th></th>\n",
       "      <th>SHOP</th>\n",
       "    </tr>\n",
       "    <tr>\n",
       "      <th>Date</th>\n",
       "      <th></th>\n",
       "    </tr>\n",
       "  </thead>\n",
       "  <tbody>\n",
       "    <tr>\n",
       "      <th>2018-01-02</th>\n",
       "      <td>132.06</td>\n",
       "    </tr>\n",
       "    <tr>\n",
       "      <th>2018-01-03</th>\n",
       "      <td>135.15</td>\n",
       "    </tr>\n",
       "    <tr>\n",
       "      <th>2018-01-04</th>\n",
       "      <td>137.46</td>\n",
       "    </tr>\n",
       "    <tr>\n",
       "      <th>2018-01-05</th>\n",
       "      <td>137.26</td>\n",
       "    </tr>\n",
       "    <tr>\n",
       "      <th>2018-01-08</th>\n",
       "      <td>139.51</td>\n",
       "    </tr>\n",
       "  </tbody>\n",
       "</table>\n",
       "</div>"
      ],
      "text/plain": [
       "              SHOP\n",
       "Date              \n",
       "2018-01-02  132.06\n",
       "2018-01-03  135.15\n",
       "2018-01-04  137.46\n",
       "2018-01-05  137.26\n",
       "2018-01-08  139.51"
      ]
     },
     "execution_count": 96,
     "metadata": {},
     "output_type": "execute_result"
    }
   ],
   "source": [
    "shop.head()"
   ]
  },
  {
   "cell_type": "code",
   "execution_count": 97,
   "id": "27cb1d6f-4bb4-44d5-ba94-bb3980ca98ed",
   "metadata": {},
   "outputs": [
    {
     "data": {
      "text/html": [
       "<div>\n",
       "<style scoped>\n",
       "    .dataframe tbody tr th:only-of-type {\n",
       "        vertical-align: middle;\n",
       "    }\n",
       "\n",
       "    .dataframe tbody tr th {\n",
       "        vertical-align: top;\n",
       "    }\n",
       "\n",
       "    .dataframe thead th {\n",
       "        text-align: right;\n",
       "    }\n",
       "</style>\n",
       "<table border=\"1\" class=\"dataframe\">\n",
       "  <thead>\n",
       "    <tr style=\"text-align: right;\">\n",
       "      <th></th>\n",
       "      <th>OTEX</th>\n",
       "      <th>L</th>\n",
       "      <th>SHOP</th>\n",
       "    </tr>\n",
       "    <tr>\n",
       "      <th>Date</th>\n",
       "      <th></th>\n",
       "      <th></th>\n",
       "      <th></th>\n",
       "    </tr>\n",
       "  </thead>\n",
       "  <tbody>\n",
       "    <tr>\n",
       "      <th>2018-01-02</th>\n",
       "      <td>43.58</td>\n",
       "      <td>57.99</td>\n",
       "      <td>132.06</td>\n",
       "    </tr>\n",
       "    <tr>\n",
       "      <th>2018-01-03</th>\n",
       "      <td>43.07</td>\n",
       "      <td>57.41</td>\n",
       "      <td>135.15</td>\n",
       "    </tr>\n",
       "    <tr>\n",
       "      <th>2018-01-04</th>\n",
       "      <td>42.91</td>\n",
       "      <td>57.42</td>\n",
       "      <td>137.46</td>\n",
       "    </tr>\n",
       "    <tr>\n",
       "      <th>2018-01-05</th>\n",
       "      <td>42.57</td>\n",
       "      <td>57.42</td>\n",
       "      <td>137.26</td>\n",
       "    </tr>\n",
       "    <tr>\n",
       "      <th>2018-01-08</th>\n",
       "      <td>42.16</td>\n",
       "      <td>56.86</td>\n",
       "      <td>139.51</td>\n",
       "    </tr>\n",
       "    <tr>\n",
       "      <th>...</th>\n",
       "      <td>...</td>\n",
       "      <td>...</td>\n",
       "      <td>...</td>\n",
       "    </tr>\n",
       "    <tr>\n",
       "      <th>2019-12-20</th>\n",
       "      <td>58.68</td>\n",
       "      <td>67.90</td>\n",
       "      <td>513.22</td>\n",
       "    </tr>\n",
       "    <tr>\n",
       "      <th>2019-12-23</th>\n",
       "      <td>57.89</td>\n",
       "      <td>67.68</td>\n",
       "      <td>511.62</td>\n",
       "    </tr>\n",
       "    <tr>\n",
       "      <th>2019-12-24</th>\n",
       "      <td>57.44</td>\n",
       "      <td>67.67</td>\n",
       "      <td>525.39</td>\n",
       "    </tr>\n",
       "    <tr>\n",
       "      <th>2019-12-27</th>\n",
       "      <td>57.70</td>\n",
       "      <td>67.78</td>\n",
       "      <td>534.76</td>\n",
       "    </tr>\n",
       "    <tr>\n",
       "      <th>2019-12-30</th>\n",
       "      <td>57.19</td>\n",
       "      <td>67.33</td>\n",
       "      <td>517.79</td>\n",
       "    </tr>\n",
       "  </tbody>\n",
       "</table>\n",
       "<p>501 rows × 3 columns</p>\n",
       "</div>"
      ],
      "text/plain": [
       "             OTEX      L    SHOP\n",
       "Date                            \n",
       "2018-01-02  43.58  57.99  132.06\n",
       "2018-01-03  43.07  57.41  135.15\n",
       "2018-01-04  42.91  57.42  137.46\n",
       "2018-01-05  42.57  57.42  137.26\n",
       "2018-01-08  42.16  56.86  139.51\n",
       "...           ...    ...     ...\n",
       "2019-12-20  58.68  67.90  513.22\n",
       "2019-12-23  57.89  67.68  511.62\n",
       "2019-12-24  57.44  67.67  525.39\n",
       "2019-12-27  57.70  67.78  534.76\n",
       "2019-12-30  57.19  67.33  517.79\n",
       "\n",
       "[501 rows x 3 columns]"
      ]
     },
     "execution_count": 97,
     "metadata": {},
     "output_type": "execute_result"
    }
   ],
   "source": [
    "combined_data = pd.concat([otex, l, shop], axis ='columns', join= 'inner')\n",
    "combined_data"
   ]
  },
  {
   "cell_type": "code",
   "execution_count": 98,
   "id": "18d283c9-1bec-4549-b1f2-d7433186c104",
   "metadata": {},
   "outputs": [],
   "source": [
    "# Calculate daily returns\n",
    "\n",
    "# Drop NAs\n",
    "\n",
    "# Display sample data"
   ]
  },
  {
   "cell_type": "code",
   "execution_count": 101,
   "id": "225223f0-7eb2-4687-8fc4-97bc9a570f6a",
   "metadata": {},
   "outputs": [],
   "source": [
    "daily_returns = combined_data.pct_change().dropna().copy()"
   ]
  },
  {
   "cell_type": "code",
   "execution_count": 102,
   "id": "89f2497b-292b-4d29-8f8e-352b52ca546b",
   "metadata": {},
   "outputs": [
    {
     "data": {
      "text/html": [
       "<div>\n",
       "<style scoped>\n",
       "    .dataframe tbody tr th:only-of-type {\n",
       "        vertical-align: middle;\n",
       "    }\n",
       "\n",
       "    .dataframe tbody tr th {\n",
       "        vertical-align: top;\n",
       "    }\n",
       "\n",
       "    .dataframe thead th {\n",
       "        text-align: right;\n",
       "    }\n",
       "</style>\n",
       "<table border=\"1\" class=\"dataframe\">\n",
       "  <thead>\n",
       "    <tr style=\"text-align: right;\">\n",
       "      <th></th>\n",
       "      <th>OTEX</th>\n",
       "      <th>L</th>\n",
       "      <th>SHOP</th>\n",
       "    </tr>\n",
       "    <tr>\n",
       "      <th>Date</th>\n",
       "      <th></th>\n",
       "      <th></th>\n",
       "      <th></th>\n",
       "    </tr>\n",
       "  </thead>\n",
       "  <tbody>\n",
       "    <tr>\n",
       "      <th>2018-01-03</th>\n",
       "      <td>-0.011703</td>\n",
       "      <td>-0.010002</td>\n",
       "      <td>0.023398</td>\n",
       "    </tr>\n",
       "    <tr>\n",
       "      <th>2018-01-04</th>\n",
       "      <td>-0.003715</td>\n",
       "      <td>0.000174</td>\n",
       "      <td>0.017092</td>\n",
       "    </tr>\n",
       "    <tr>\n",
       "      <th>2018-01-05</th>\n",
       "      <td>-0.007924</td>\n",
       "      <td>0.000000</td>\n",
       "      <td>-0.001455</td>\n",
       "    </tr>\n",
       "    <tr>\n",
       "      <th>2018-01-08</th>\n",
       "      <td>-0.009631</td>\n",
       "      <td>-0.009753</td>\n",
       "      <td>0.016392</td>\n",
       "    </tr>\n",
       "    <tr>\n",
       "      <th>2018-01-09</th>\n",
       "      <td>-0.000712</td>\n",
       "      <td>0.008969</td>\n",
       "      <td>-0.011254</td>\n",
       "    </tr>\n",
       "    <tr>\n",
       "      <th>...</th>\n",
       "      <td>...</td>\n",
       "      <td>...</td>\n",
       "      <td>...</td>\n",
       "    </tr>\n",
       "    <tr>\n",
       "      <th>2019-12-20</th>\n",
       "      <td>0.024441</td>\n",
       "      <td>0.003547</td>\n",
       "      <td>-0.005503</td>\n",
       "    </tr>\n",
       "    <tr>\n",
       "      <th>2019-12-23</th>\n",
       "      <td>-0.013463</td>\n",
       "      <td>-0.003240</td>\n",
       "      <td>-0.003118</td>\n",
       "    </tr>\n",
       "    <tr>\n",
       "      <th>2019-12-24</th>\n",
       "      <td>-0.007773</td>\n",
       "      <td>-0.000148</td>\n",
       "      <td>0.026915</td>\n",
       "    </tr>\n",
       "    <tr>\n",
       "      <th>2019-12-27</th>\n",
       "      <td>0.004526</td>\n",
       "      <td>0.001626</td>\n",
       "      <td>0.017834</td>\n",
       "    </tr>\n",
       "    <tr>\n",
       "      <th>2019-12-30</th>\n",
       "      <td>-0.008839</td>\n",
       "      <td>-0.006639</td>\n",
       "      <td>-0.031734</td>\n",
       "    </tr>\n",
       "  </tbody>\n",
       "</table>\n",
       "<p>500 rows × 3 columns</p>\n",
       "</div>"
      ],
      "text/plain": [
       "                OTEX         L      SHOP\n",
       "Date                                    \n",
       "2018-01-03 -0.011703 -0.010002  0.023398\n",
       "2018-01-04 -0.003715  0.000174  0.017092\n",
       "2018-01-05 -0.007924  0.000000 -0.001455\n",
       "2018-01-08 -0.009631 -0.009753  0.016392\n",
       "2018-01-09 -0.000712  0.008969 -0.011254\n",
       "...              ...       ...       ...\n",
       "2019-12-20  0.024441  0.003547 -0.005503\n",
       "2019-12-23 -0.013463 -0.003240 -0.003118\n",
       "2019-12-24 -0.007773 -0.000148  0.026915\n",
       "2019-12-27  0.004526  0.001626  0.017834\n",
       "2019-12-30 -0.008839 -0.006639 -0.031734\n",
       "\n",
       "[500 rows x 3 columns]"
      ]
     },
     "execution_count": 102,
     "metadata": {},
     "output_type": "execute_result"
    }
   ],
   "source": [
    "daily_returns"
   ]
  },
  {
   "cell_type": "code",
   "execution_count": 103,
   "id": "46ab72a7-e68a-48b3-944c-9cc870f9d187",
   "metadata": {},
   "outputs": [],
   "source": [
    "# Set weights\n",
    "weights = [1/3, 1/3, 1/3]"
   ]
  },
  {
   "cell_type": "code",
   "execution_count": 104,
   "id": "a67d6b6b-aa84-46e5-9d1f-99a8cbcb003c",
   "metadata": {},
   "outputs": [],
   "source": [
    "# Calculate portfolio return\n",
    "\n",
    "# Display sample data"
   ]
  },
  {
   "cell_type": "code",
   "execution_count": 105,
   "id": "abf19aea-253e-4be0-be3e-ff52379ed7ba",
   "metadata": {},
   "outputs": [
    {
     "data": {
      "text/plain": [
       "Date\n",
       "2018-01-03    0.000565\n",
       "2018-01-04    0.004517\n",
       "2018-01-05   -0.003126\n",
       "2018-01-08   -0.000997\n",
       "2018-01-09   -0.000999\n",
       "                ...   \n",
       "2019-12-20    0.007495\n",
       "2019-12-23   -0.006607\n",
       "2019-12-24    0.006331\n",
       "2019-12-27    0.007995\n",
       "2019-12-30   -0.015737\n",
       "Length: 500, dtype: float64"
      ]
     },
     "execution_count": 105,
     "metadata": {},
     "output_type": "execute_result"
    }
   ],
   "source": [
    "portfolio_returns = daily_returns.dot(weights)\n",
    "portfolio_returns"
   ]
  },
  {
   "cell_type": "code",
   "execution_count": 106,
   "id": "f81e4420-b7b7-470a-b6bf-704eb765134a",
   "metadata": {},
   "outputs": [
    {
     "data": {
      "text/plain": [
       "<AxesSubplot:xlabel='Date'>"
      ]
     },
     "execution_count": 106,
     "metadata": {},
     "output_type": "execute_result"
    },
    {
     "data": {
      "image/png": "[encoded data removed]",
      "text/plain": [
       "<Figure size 432x288 with 1 Axes>"
      ]
     },
     "metadata": {
      "needs_background": "light"
     },
     "output_type": "display_data"
    }
   ],
   "source": [
    "portfolio_returns.plot()"
   ]
  },
  {
   "cell_type": "code",
   "execution_count": 107,
   "id": "6ee85e1c-4d9c-49af-bfb0-e7b6d43f5647",
   "metadata": {},
   "outputs": [],
   "source": [
    "# Join your returns DataFrame to the original returns DataFrame\n",
    "# Only compare dates where return data exists for all the stocks (drop NaNs)"
   ]
  },
  {
   "cell_type": "code",
   "execution_count": 108,
   "id": "d4dfd6ff-c954-46c3-ba26-469e7018999b",
   "metadata": {},
   "outputs": [
    {
     "data": {
      "text/html": [
       "<div>\n",
       "<style scoped>\n",
       "    .dataframe tbody tr th:only-of-type {\n",
       "        vertical-align: middle;\n",
       "    }\n",
       "\n",
       "    .dataframe tbody tr th {\n",
       "        vertical-align: top;\n",
       "    }\n",
       "\n",
       "    .dataframe thead th {\n",
       "        text-align: right;\n",
       "    }\n",
       "</style>\n",
       "<table border=\"1\" class=\"dataframe\">\n",
       "  <thead>\n",
       "    <tr style=\"text-align: right;\">\n",
       "      <th></th>\n",
       "      <th>OTEX</th>\n",
       "      <th>L</th>\n",
       "      <th>SHOP</th>\n",
       "    </tr>\n",
       "    <tr>\n",
       "      <th>Date</th>\n",
       "      <th></th>\n",
       "      <th></th>\n",
       "      <th></th>\n",
       "    </tr>\n",
       "  </thead>\n",
       "  <tbody>\n",
       "    <tr>\n",
       "      <th>2018-01-03</th>\n",
       "      <td>-0.011703</td>\n",
       "      <td>-0.010002</td>\n",
       "      <td>0.023398</td>\n",
       "    </tr>\n",
       "    <tr>\n",
       "      <th>2018-01-04</th>\n",
       "      <td>-0.003715</td>\n",
       "      <td>0.000174</td>\n",
       "      <td>0.017092</td>\n",
       "    </tr>\n",
       "    <tr>\n",
       "      <th>2018-01-05</th>\n",
       "      <td>-0.007924</td>\n",
       "      <td>0.000000</td>\n",
       "      <td>-0.001455</td>\n",
       "    </tr>\n",
       "    <tr>\n",
       "      <th>2018-01-08</th>\n",
       "      <td>-0.009631</td>\n",
       "      <td>-0.009753</td>\n",
       "      <td>0.016392</td>\n",
       "    </tr>\n",
       "    <tr>\n",
       "      <th>2018-01-09</th>\n",
       "      <td>-0.000712</td>\n",
       "      <td>0.008969</td>\n",
       "      <td>-0.011254</td>\n",
       "    </tr>\n",
       "    <tr>\n",
       "      <th>...</th>\n",
       "      <td>...</td>\n",
       "      <td>...</td>\n",
       "      <td>...</td>\n",
       "    </tr>\n",
       "    <tr>\n",
       "      <th>2019-12-20</th>\n",
       "      <td>0.024441</td>\n",
       "      <td>0.003547</td>\n",
       "      <td>-0.005503</td>\n",
       "    </tr>\n",
       "    <tr>\n",
       "      <th>2019-12-23</th>\n",
       "      <td>-0.013463</td>\n",
       "      <td>-0.003240</td>\n",
       "      <td>-0.003118</td>\n",
       "    </tr>\n",
       "    <tr>\n",
       "      <th>2019-12-24</th>\n",
       "      <td>-0.007773</td>\n",
       "      <td>-0.000148</td>\n",
       "      <td>0.026915</td>\n",
       "    </tr>\n",
       "    <tr>\n",
       "      <th>2019-12-27</th>\n",
       "      <td>0.004526</td>\n",
       "      <td>0.001626</td>\n",
       "      <td>0.017834</td>\n",
       "    </tr>\n",
       "    <tr>\n",
       "      <th>2019-12-30</th>\n",
       "      <td>-0.008839</td>\n",
       "      <td>-0.006639</td>\n",
       "      <td>-0.031734</td>\n",
       "    </tr>\n",
       "  </tbody>\n",
       "</table>\n",
       "<p>500 rows × 3 columns</p>\n",
       "</div>"
      ],
      "text/plain": [
       "                OTEX         L      SHOP\n",
       "Date                                    \n",
       "2018-01-03 -0.011703 -0.010002  0.023398\n",
       "2018-01-04 -0.003715  0.000174  0.017092\n",
       "2018-01-05 -0.007924  0.000000 -0.001455\n",
       "2018-01-08 -0.009631 -0.009753  0.016392\n",
       "2018-01-09 -0.000712  0.008969 -0.011254\n",
       "...              ...       ...       ...\n",
       "2019-12-20  0.024441  0.003547 -0.005503\n",
       "2019-12-23 -0.013463 -0.003240 -0.003118\n",
       "2019-12-24 -0.007773 -0.000148  0.026915\n",
       "2019-12-27  0.004526  0.001626  0.017834\n",
       "2019-12-30 -0.008839 -0.006639 -0.031734\n",
       "\n",
       "[500 rows x 3 columns]"
      ]
     },
     "execution_count": 108,
     "metadata": {},
     "output_type": "execute_result"
    }
   ],
   "source": [
    "daily_returns"
   ]
  },
  {
   "cell_type": "code",
   "execution_count": 110,
   "id": "3b4723bc-373d-4f9b-aeb4-b6324e695712",
   "metadata": {},
   "outputs": [
    {
     "name": "stdout",
     "output_type": "stream",
     "text": [
      "Already cleared the NaNs in the beginning.\n"
     ]
    }
   ],
   "source": [
    "print(f'Already cleared the NaNs in the beginning.')"
   ]
  },
  {
   "cell_type": "code",
   "execution_count": 111,
   "id": "919ba82a-1094-446e-9ae7-d288619b2193",
   "metadata": {},
   "outputs": [],
   "source": [
    "# Calculate the annualized `std`"
   ]
  },
  {
   "cell_type": "code",
   "execution_count": 112,
   "id": "45c71199-294f-4d17-8417-f77a1336ef0b",
   "metadata": {},
   "outputs": [
    {
     "data": {
      "text/plain": [
       "OTEX    0.215132\n",
       "L       0.152369\n",
       "SHOP    0.488717\n",
       "dtype: float64"
      ]
     },
     "execution_count": 112,
     "metadata": {},
     "output_type": "execute_result"
    }
   ],
   "source": [
    "daily_returns.std() * np.sqrt(252)"
   ]
  },
  {
   "cell_type": "code",
   "execution_count": 113,
   "id": "ca2206ee-4c06-40f4-8e99-f6b6698401a2",
   "metadata": {},
   "outputs": [],
   "source": [
    "# Calculate rolling standard deviation\n",
    "\n",
    "# Plot rolling standard deviation"
   ]
  },
  {
   "cell_type": "code",
   "execution_count": 115,
   "id": "52f57f6d-8b41-4178-aa0d-81e9de36c89e",
   "metadata": {},
   "outputs": [
    {
     "data": {
      "text/html": [
       "<div>\n",
       "<style scoped>\n",
       "    .dataframe tbody tr th:only-of-type {\n",
       "        vertical-align: middle;\n",
       "    }\n",
       "\n",
       "    .dataframe tbody tr th {\n",
       "        vertical-align: top;\n",
       "    }\n",
       "\n",
       "    .dataframe thead th {\n",
       "        text-align: right;\n",
       "    }\n",
       "</style>\n",
       "<table border=\"1\" class=\"dataframe\">\n",
       "  <thead>\n",
       "    <tr style=\"text-align: right;\">\n",
       "      <th></th>\n",
       "      <th>OTEX</th>\n",
       "      <th>L</th>\n",
       "      <th>SHOP</th>\n",
       "    </tr>\n",
       "    <tr>\n",
       "      <th>Date</th>\n",
       "      <th></th>\n",
       "      <th></th>\n",
       "      <th></th>\n",
       "    </tr>\n",
       "  </thead>\n",
       "  <tbody>\n",
       "    <tr>\n",
       "      <th>2018-01-31</th>\n",
       "      <td>0.005697</td>\n",
       "      <td>0.009422</td>\n",
       "      <td>0.019085</td>\n",
       "    </tr>\n",
       "    <tr>\n",
       "      <th>2018-02-01</th>\n",
       "      <td>0.028489</td>\n",
       "      <td>0.009874</td>\n",
       "      <td>0.019344</td>\n",
       "    </tr>\n",
       "    <tr>\n",
       "      <th>2018-02-02</th>\n",
       "      <td>0.030516</td>\n",
       "      <td>0.009932</td>\n",
       "      <td>0.019206</td>\n",
       "    </tr>\n",
       "    <tr>\n",
       "      <th>2018-02-05</th>\n",
       "      <td>0.030508</td>\n",
       "      <td>0.009921</td>\n",
       "      <td>0.021719</td>\n",
       "    </tr>\n",
       "    <tr>\n",
       "      <th>2018-02-06</th>\n",
       "      <td>0.030546</td>\n",
       "      <td>0.009767</td>\n",
       "      <td>0.021984</td>\n",
       "    </tr>\n",
       "    <tr>\n",
       "      <th>...</th>\n",
       "      <td>...</td>\n",
       "      <td>...</td>\n",
       "      <td>...</td>\n",
       "    </tr>\n",
       "    <tr>\n",
       "      <th>2019-12-20</th>\n",
       "      <td>0.009358</td>\n",
       "      <td>0.007647</td>\n",
       "      <td>0.023773</td>\n",
       "    </tr>\n",
       "    <tr>\n",
       "      <th>2019-12-23</th>\n",
       "      <td>0.009868</td>\n",
       "      <td>0.007651</td>\n",
       "      <td>0.023754</td>\n",
       "    </tr>\n",
       "    <tr>\n",
       "      <th>2019-12-24</th>\n",
       "      <td>0.009104</td>\n",
       "      <td>0.007416</td>\n",
       "      <td>0.024038</td>\n",
       "    </tr>\n",
       "    <tr>\n",
       "      <th>2019-12-27</th>\n",
       "      <td>0.008669</td>\n",
       "      <td>0.007075</td>\n",
       "      <td>0.022243</td>\n",
       "    </tr>\n",
       "    <tr>\n",
       "      <th>2019-12-30</th>\n",
       "      <td>0.008678</td>\n",
       "      <td>0.007075</td>\n",
       "      <td>0.023744</td>\n",
       "    </tr>\n",
       "  </tbody>\n",
       "</table>\n",
       "<p>480 rows × 3 columns</p>\n",
       "</div>"
      ],
      "text/plain": [
       "                OTEX         L      SHOP\n",
       "Date                                    \n",
       "2018-01-31  0.005697  0.009422  0.019085\n",
       "2018-02-01  0.028489  0.009874  0.019344\n",
       "2018-02-02  0.030516  0.009932  0.019206\n",
       "2018-02-05  0.030508  0.009921  0.021719\n",
       "2018-02-06  0.030546  0.009767  0.021984\n",
       "...              ...       ...       ...\n",
       "2019-12-20  0.009358  0.007647  0.023773\n",
       "2019-12-23  0.009868  0.007651  0.023754\n",
       "2019-12-24  0.009104  0.007416  0.024038\n",
       "2019-12-27  0.008669  0.007075  0.022243\n",
       "2019-12-30  0.008678  0.007075  0.023744\n",
       "\n",
       "[480 rows x 3 columns]"
      ]
     },
     "execution_count": 115,
     "metadata": {},
     "output_type": "execute_result"
    }
   ],
   "source": [
    "daily_returns.rolling(window=21).std().dropna().copy()"
   ]
  },
  {
   "cell_type": "code",
   "execution_count": 116,
   "id": "33436b53-6a09-4a13-9f66-fdbe05b9b2b0",
   "metadata": {},
   "outputs": [
    {
     "data": {
      "text/plain": [
       "<AxesSubplot:xlabel='Date'>"
      ]
     },
     "execution_count": 116,
     "metadata": {},
     "output_type": "execute_result"
    },
    {
     "data": {
      "image/png": "[encoded data removed]",
      "text/plain": [
       "<Figure size 432x288 with 1 Axes>"
      ]
     },
     "metadata": {
      "needs_background": "light"
     },
     "output_type": "display_data"
    }
   ],
   "source": [
    "daily_returns.rolling(window=21).std().dropna().copy().plot()"
   ]
  },
  {
   "cell_type": "code",
   "execution_count": 117,
   "id": "5c3094e3-efcb-4877-a083-ad4c2b7732d3",
   "metadata": {},
   "outputs": [],
   "source": [
    "# Calculate and plot the correlation"
   ]
  },
  {
   "cell_type": "code",
   "execution_count": 118,
   "id": "7f0ae9c1-b740-4251-bd4a-2afe8efa0336",
   "metadata": {},
   "outputs": [],
   "source": [
    "import seaborn as sns "
   ]
  },
  {
   "cell_type": "code",
   "execution_count": 119,
   "id": "cc67ae4f-f9d1-4e87-83cf-024b70fb6e9d",
   "metadata": {},
   "outputs": [
    {
     "data": {
      "text/html": [
       "<div>\n",
       "<style scoped>\n",
       "    .dataframe tbody tr th:only-of-type {\n",
       "        vertical-align: middle;\n",
       "    }\n",
       "\n",
       "    .dataframe tbody tr th {\n",
       "        vertical-align: top;\n",
       "    }\n",
       "\n",
       "    .dataframe thead th {\n",
       "        text-align: right;\n",
       "    }\n",
       "</style>\n",
       "<table border=\"1\" class=\"dataframe\">\n",
       "  <thead>\n",
       "    <tr style=\"text-align: right;\">\n",
       "      <th></th>\n",
       "      <th>OTEX</th>\n",
       "      <th>L</th>\n",
       "      <th>SHOP</th>\n",
       "    </tr>\n",
       "  </thead>\n",
       "  <tbody>\n",
       "    <tr>\n",
       "      <th>OTEX</th>\n",
       "      <td>1.000000</td>\n",
       "      <td>0.181266</td>\n",
       "      <td>0.398427</td>\n",
       "    </tr>\n",
       "    <tr>\n",
       "      <th>L</th>\n",
       "      <td>0.181266</td>\n",
       "      <td>1.000000</td>\n",
       "      <td>0.127501</td>\n",
       "    </tr>\n",
       "    <tr>\n",
       "      <th>SHOP</th>\n",
       "      <td>0.398427</td>\n",
       "      <td>0.127501</td>\n",
       "      <td>1.000000</td>\n",
       "    </tr>\n",
       "  </tbody>\n",
       "</table>\n",
       "</div>"
      ],
      "text/plain": [
       "          OTEX         L      SHOP\n",
       "OTEX  1.000000  0.181266  0.398427\n",
       "L     0.181266  1.000000  0.127501\n",
       "SHOP  0.398427  0.127501  1.000000"
      ]
     },
     "execution_count": 119,
     "metadata": {},
     "output_type": "execute_result"
    }
   ],
   "source": [
    "correlation = daily_returns.corr()\n",
    "correlation"
   ]
  },
  {
   "cell_type": "code",
   "execution_count": 120,
   "id": "6afc0892-986e-4ae4-8704-9d850bcde5e8",
   "metadata": {},
   "outputs": [
    {
     "data": {
      "text/plain": [
       "<AxesSubplot:>"
      ]
     },
     "execution_count": 120,
     "metadata": {},
     "output_type": "execute_result"
    },
    {
     "data": {
      "image/png": "[encoded data removed]",
      "text/plain": [
       "<Figure size 432x288 with 2 Axes>"
      ]
     },
     "metadata": {
      "needs_background": "light"
     },
     "output_type": "display_data"
    }
   ],
   "source": [
    "sns.heatmap(correlation) "
   ]
  },
  {
   "cell_type": "code",
   "execution_count": 121,
   "id": "153eb3c0-288a-4c5a-aedf-906cb0a61706",
   "metadata": {},
   "outputs": [],
   "source": [
    "#Calculate and Plot the 60-day Rolling Beta for Your Portfolio compared to the S&P 60 TSX\n",
    "#First get back all my S&P 60 TSX data back\n",
    "#Second get the variance\n",
    "#Third get the covariance\n",
    "#Fourth get the beta\n",
    "#Finally Plot "
   ]
  },
  {
   "cell_type": "code",
   "execution_count": 122,
   "id": "1dbbaf26-480f-4068-b712-5bfe09b0e59d",
   "metadata": {},
   "outputs": [],
   "source": [
    "sp_tsx_path = Path(\"../Pandas Classes/sp_tsx_history.csv\")\n",
    "sp_tsx_history = pd.read_csv(sp_tsx_path, parse_dates=True, infer_datetime_format=True)"
   ]
  },
  {
   "cell_type": "code",
   "execution_count": 123,
   "id": "f189ebf9-6d27-461a-bef6-b9bf57b2a0e2",
   "metadata": {},
   "outputs": [
    {
     "name": "stderr",
     "output_type": "stream",
     "text": [
      "/var/folders/9d/rpnbdqqj51b4yqlrbmn011640000gn/T/ipykernel_23653/1775792936.py:2: FutureWarning: The default value of regex will change from True to False in a future version. In addition, single character regular expressions will *not* be treated as literal strings when regex=True.\n",
      "  sp_tsx_history['Close'] = sp_tsx_history['Close'].str.replace(\"$\",\"\")\n"
     ]
    }
   ],
   "source": [
    "sp_tsx_history['Close'] = sp_tsx_history['Close'].str.replace(\",\",\"\")\n",
    "sp_tsx_history['Close'] = sp_tsx_history['Close'].str.replace(\"$\",\"\")\n",
    "sp_tsx_history['Close'] = sp_tsx_history['Close'].astype(float)"
   ]
  },
  {
   "cell_type": "code",
   "execution_count": 126,
   "id": "7b92fd18-5c05-4786-8f75-439b5fa17297",
   "metadata": {},
   "outputs": [],
   "source": [
    "sp_tsx_history['Date'] = pd.to_datetime(sp_tsx_history.Date).dt.date"
   ]
  },
  {
   "cell_type": "code",
   "execution_count": 127,
   "id": "f39d9453-1601-413a-9283-a26e51b832fa",
   "metadata": {},
   "outputs": [],
   "source": [
    "sp_tsx_returns = sp_tsx_history.set_index('Date')"
   ]
  },
  {
   "cell_type": "code",
   "execution_count": 128,
   "id": "99cc4a10-5587-422a-8a3f-f5d40cc90618",
   "metadata": {},
   "outputs": [],
   "source": [
    "sp_tsx_returns = sp_tsx_returns.pct_change().dropna().copy()\n"
   ]
  },
  {
   "cell_type": "code",
   "execution_count": 129,
   "id": "bb8fa445-9332-4d4c-904d-3f09c5258c7b",
   "metadata": {},
   "outputs": [],
   "source": [
    "sp_tsx_returns.rename(columns = {'Close' : 'S&P TSX'}, inplace = True)"
   ]
  },
  {
   "cell_type": "code",
   "execution_count": 130,
   "id": "9bf0d94c-9182-486a-a463-b7fb8bd2aa0c",
   "metadata": {},
   "outputs": [
    {
     "data": {
      "text/html": [
       "<div>\n",
       "<style scoped>\n",
       "    .dataframe tbody tr th:only-of-type {\n",
       "        vertical-align: middle;\n",
       "    }\n",
       "\n",
       "    .dataframe tbody tr th {\n",
       "        vertical-align: top;\n",
       "    }\n",
       "\n",
       "    .dataframe thead th {\n",
       "        text-align: right;\n",
       "    }\n",
       "</style>\n",
       "<table border=\"1\" class=\"dataframe\">\n",
       "  <thead>\n",
       "    <tr style=\"text-align: right;\">\n",
       "      <th></th>\n",
       "      <th>S&amp;P TSX</th>\n",
       "    </tr>\n",
       "    <tr>\n",
       "      <th>Date</th>\n",
       "      <th></th>\n",
       "    </tr>\n",
       "  </thead>\n",
       "  <tbody>\n",
       "    <tr>\n",
       "      <th>2012-10-02</th>\n",
       "      <td>0.001701</td>\n",
       "    </tr>\n",
       "    <tr>\n",
       "      <th>2012-10-03</th>\n",
       "      <td>-0.002563</td>\n",
       "    </tr>\n",
       "    <tr>\n",
       "      <th>2012-10-04</th>\n",
       "      <td>0.007137</td>\n",
       "    </tr>\n",
       "    <tr>\n",
       "      <th>2012-10-05</th>\n",
       "      <td>-0.002305</td>\n",
       "    </tr>\n",
       "    <tr>\n",
       "      <th>2012-10-09</th>\n",
       "      <td>-0.011709</td>\n",
       "    </tr>\n",
       "    <tr>\n",
       "      <th>...</th>\n",
       "      <td>...</td>\n",
       "    </tr>\n",
       "    <tr>\n",
       "      <th>2019-12-20</th>\n",
       "      <td>0.003188</td>\n",
       "    </tr>\n",
       "    <tr>\n",
       "      <th>2019-12-23</th>\n",
       "      <td>0.000600</td>\n",
       "    </tr>\n",
       "    <tr>\n",
       "      <th>2019-12-24</th>\n",
       "      <td>0.003003</td>\n",
       "    </tr>\n",
       "    <tr>\n",
       "      <th>2019-12-27</th>\n",
       "      <td>-0.000695</td>\n",
       "    </tr>\n",
       "    <tr>\n",
       "      <th>2019-12-30</th>\n",
       "      <td>-0.004057</td>\n",
       "    </tr>\n",
       "  </tbody>\n",
       "</table>\n",
       "<p>1817 rows × 1 columns</p>\n",
       "</div>"
      ],
      "text/plain": [
       "             S&P TSX\n",
       "Date                \n",
       "2012-10-02  0.001701\n",
       "2012-10-03 -0.002563\n",
       "2012-10-04  0.007137\n",
       "2012-10-05 -0.002305\n",
       "2012-10-09 -0.011709\n",
       "...              ...\n",
       "2019-12-20  0.003188\n",
       "2019-12-23  0.000600\n",
       "2019-12-24  0.003003\n",
       "2019-12-27 -0.000695\n",
       "2019-12-30 -0.004057\n",
       "\n",
       "[1817 rows x 1 columns]"
      ]
     },
     "execution_count": 130,
     "metadata": {},
     "output_type": "execute_result"
    }
   ],
   "source": [
    "sp_tsx_returns"
   ]
  },
  {
   "cell_type": "code",
   "execution_count": 132,
   "id": "7817ac7a-a01e-4fd8-88ac-cd0884e0ae9c",
   "metadata": {},
   "outputs": [
    {
     "data": {
      "text/plain": [
       "Date\n",
       "2012-10-02         NaN\n",
       "2012-10-03         NaN\n",
       "2012-10-04         NaN\n",
       "2012-10-05         NaN\n",
       "2012-10-09         NaN\n",
       "                ...   \n",
       "2019-12-20    0.000014\n",
       "2019-12-23    0.000013\n",
       "2019-12-24    0.000013\n",
       "2019-12-27    0.000010\n",
       "2019-12-30    0.000009\n",
       "Name: S&P TSX, Length: 1817, dtype: float64"
      ]
     },
     "execution_count": 132,
     "metadata": {},
     "output_type": "execute_result"
    }
   ],
   "source": [
    "variance = sp_tsx_returns['S&P TSX'].rolling(window=60).var()\n",
    "variance"
   ]
  },
  {
   "cell_type": "code",
   "execution_count": 134,
   "id": "1fcb7270-3c12-4566-bda4-34d6658fa068",
   "metadata": {},
   "outputs": [
    {
     "data": {
      "text/plain": [
       "Date\n",
       "2012-10-02         NaN\n",
       "2012-10-03         NaN\n",
       "2012-10-04         NaN\n",
       "2012-10-05         NaN\n",
       "2012-10-09         NaN\n",
       "                ...   \n",
       "2019-12-20    0.000006\n",
       "2019-12-23    0.000006\n",
       "2019-12-24    0.000007\n",
       "2019-12-27    0.000005\n",
       "2019-12-30    0.000006\n",
       "Length: 1817, dtype: float64"
      ]
     },
     "execution_count": 134,
     "metadata": {},
     "output_type": "execute_result"
    }
   ],
   "source": [
    "covariance = daily_returns['L'].rolling(window=60).cov(sp_tsx_returns['S&P TSX'])\n",
    "covariance"
   ]
  },
  {
   "cell_type": "code",
   "execution_count": 135,
   "id": "e28869cd-2caa-4442-bb89-88bae6f847a3",
   "metadata": {},
   "outputs": [
    {
     "data": {
      "text/plain": [
       "Date\n",
       "2012-10-02         NaN\n",
       "2012-10-03         NaN\n",
       "2012-10-04         NaN\n",
       "2012-10-05         NaN\n",
       "2012-10-09         NaN\n",
       "                ...   \n",
       "2019-12-20    0.444886\n",
       "2019-12-23    0.446120\n",
       "2019-12-24    0.488277\n",
       "2019-12-27    0.470677\n",
       "2019-12-30    0.605556\n",
       "Length: 1817, dtype: float64"
      ]
     },
     "execution_count": 135,
     "metadata": {},
     "output_type": "execute_result"
    }
   ],
   "source": [
    "l_beta = (covariance / variance)\n",
    "l_beta"
   ]
  },
  {
   "cell_type": "code",
   "execution_count": 136,
   "id": "0eb2ed85-4edb-481f-b287-51c7f0c5d501",
   "metadata": {},
   "outputs": [
    {
     "data": {
      "text/plain": [
       "<AxesSubplot:xlabel='Date'>"
      ]
     },
     "execution_count": 136,
     "metadata": {},
     "output_type": "execute_result"
    },
    {
     "data": {
      "image/png": "[encoded data removed]",
      "text/plain": [
       "<Figure size 1800x720 with 1 Axes>"
      ]
     },
     "metadata": {
      "needs_background": "light"
     },
     "output_type": "display_data"
    }
   ],
   "source": [
    "l_beta.plot(figsize=(25,10))"
   ]
  },
  {
   "cell_type": "code",
   "execution_count": 137,
   "id": "791d71e2-74b0-48ec-b658-7409ab7bfc6d",
   "metadata": {},
   "outputs": [],
   "source": [
    "# Calculate Annualized Sharpe Ratios\n",
    "# Visualize the sharpe ratios as a bar plot"
   ]
  },
  {
   "cell_type": "code",
   "execution_count": 138,
   "id": "761d6595-48d3-4f6c-90ab-4bbc63452937",
   "metadata": {},
   "outputs": [
    {
     "data": {
      "text/plain": [
       "OTEX    0.743512\n",
       "L       0.570084\n",
       "SHOP    1.655513\n",
       "dtype: float64"
      ]
     },
     "execution_count": 138,
     "metadata": {},
     "output_type": "execute_result"
    }
   ],
   "source": [
    "sharpe_ratios = (daily_returns.mean() * 252) / (daily_returns.std() * np.sqrt(252))\n",
    "sharpe_ratios"
   ]
  },
  {
   "cell_type": "code",
   "execution_count": 139,
   "id": "1d8c6103-0564-4091-b6b4-d35458f82c56",
   "metadata": {},
   "outputs": [
    {
     "data": {
      "text/plain": [
       "<AxesSubplot:title={'center':'Sharpe Ratios'}>"
      ]
     },
     "execution_count": 139,
     "metadata": {},
     "output_type": "execute_result"
    },
    {
     "data": {
      "image/png": "[encoded data removed]",
      "text/plain": [
       "<Figure size 432x288 with 1 Axes>"
      ]
     },
     "metadata": {
      "needs_background": "light"
     },
     "output_type": "display_data"
    }
   ],
   "source": [
    "sharpe_ratios.plot(kind='bar', title= 'Sharpe Ratios')"
   ]
  },
  {
   "cell_type": "code",
   "execution_count": 141,
   "id": "1b44cbbb-4aee-4eb8-9760-4b32316fd804",
   "metadata": {},
   "outputs": [
    {
     "name": "stdout",
     "output_type": "stream",
     "text": [
      "Based off of the whale portfolios and the market, all three of my portfolios do much better. But when compared to the algorithms from part 1, my three portfolios do better than algo 2 but not better than algo 1.\n"
     ]
    }
   ],
   "source": [
    "print(f'Based off of the whale portfolios and the market, all three of my portfolios do much better. But when compared to the algorithms from part 1, my three portfolios do better than algo 2 but not better than algo 1.')"
   ]
  },
  {
   "cell_type": "code",
   "execution_count": null,
   "id": "1894c341-a5df-4caa-8e17-84cfe512a210",
   "metadata": {},
   "outputs": [],
   "source": []
  }
 ],
 "metadata": {
  "kernelspec": {
   "display_name": "Python 3 (ipykernel)",
   "language": "python",
   "name": "python3"
  },
  "language_info": {
   "codemirror_mode": {
    "name": "ipython",
    "version": 3
   },
   "file_extension": ".py",
   "mimetype": "text/x-python",
   "name": "python",
   "nbconvert_exporter": "python",
   "pygments_lexer": "ipython3",
   "version": "3.9.7"
  }
 },
 "nbformat": 4,
 "nbformat_minor": 5
}
